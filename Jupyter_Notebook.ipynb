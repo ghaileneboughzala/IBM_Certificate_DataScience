{
 "cells": [
  {
   "cell_type": "markdown",
   "metadata": {},
   "source": [
    "<center>\n",
    "    <img src=\"https://cf-courses-data.s3.us.cloud-object-storage.appdomain.cloud/IBMDeveloperSkillsNetwork-DS0105EN-SkillsNetwork/labs/Module2/images/SN_web_lightmode.png\" width=\"300\" alt=\"cognitiveclass.ai logo\">\n",
    "</center>\n"
   ]
  },
  {
   "cell_type": "markdown",
   "metadata": {},
   "source": [
    "#### Add your code below following the instructions given in the course\n"
   ]
  },
  {
   "cell_type": "markdown",
   "metadata": {},
   "source": [
    "Jupyter_Notebook"
   ]
  },
  {
   "cell_type": "markdown",
   "metadata": {},
   "source": [
    "Introduction"
   ]
  },
  {
   "cell_type": "markdown",
   "metadata": {},
   "source": [
    "### Data Science Languages\n",
    "\n",
    "1. Python\n",
    "2. R\n",
    "3. SQL\n",
    "4. Julia\n",
    "5. SAS\n",
    "6. Scala\n",
    "7. MATLAB\n",
    "8. Java\n",
    "9. C++\n",
    "10. Perl"
   ]
  },
  {
   "cell_type": "markdown",
   "metadata": {},
   "source": [
    "### Data Science Libraries\n",
    "\n",
    "- **NumPy**: Numerical computing library for handling large, multi-dimensional arrays and matrices.\n",
    "- **Pandas**: Library for data manipulation and analysis, providing powerful data structures like DataFrames.\n",
    "- **SciPy**: Library for scientific and technical computing, offering functions for optimization, integration, interpolation, and more.\n",
    "- **Scikit-learn**: Machine learning library with various algorithms and tools for classification, regression, clustering, and dimensionality reduction.\n",
    "- **TensorFlow**: Open-source library for machine learning and deep learning, providing a flexible ecosystem of tools, models, and resources.\n",
    "- **PyTorch**: Deep learning framework known for its dynamic computation graph and ease of use.\n",
    "- **Matplotlib**: Plotting library for creating static, animated, and interactive visualizations in Python.\n",
    "- **Seaborn**: Statistical data visualization library built on top of Matplotlib, offering enhanced aesthetics and additional plot types.\n",
    "- **Plotly**: Interactive visualization library for creating interactive plots, dashboards, and web applications.\n",
    "- **NLTK**: Natural Language Toolkit library for working with human language data, including text processing, tokenization, and stemming."
   ]
  },
  {
   "cell_type": "markdown",
   "metadata": {},
   "source": [
    "### Data Science Tools\n",
    "\n",
    "| Tool           | Description                                                     |\n",
    "|----------------|-----------------------------------------------------------------|\n",
    "| Jupyter Notebook   | Interactive computing environment for creating and sharing code, visualizations, and data analysis.                        |\n",
    "| Anaconda       | Open-source distribution of Python and R programming languages, including over 250 data science packages and libraries. |\n",
    "| Git            | Version control system for tracking changes in code and collaborating with others.                                           |\n",
    "| Docker         | Platform for creating, deploying, and running applications using containerization technology.                               |\n",
    "| Apache Spark   | Fast and general-purpose cluster computing system for big data processing and analytics.                                   |\n",
    "| Tableau        | Data visualization tool that allows users to explore and present data through interactive dashboards and reports.         |\n",
    "| KNIME          | Open-source data analytics platform with a visual workflow interface for building data science workflows.                  |\n",
    "| Apache Hadoop  | Distributed processing framework for handling large datasets across clusters of computers.                               |\n",
    "| RStudio        | Integrated development environment (IDE) for R programming language, specifically designed for data science projects.    |"
   ]
  },
  {
   "cell_type": "raw",
   "metadata": {},
   "source": [
    "Arithmetic Expression Examples\n",
    "Arithmetic expressions are mathematical expressions that involve numerical operations such as addition, subtraction, multiplication, and division. They are commonly used in programming and data analysis to perform calculations and manipulate numerical data. Here are some examples of arithmetic expressions:\n",
    "\n",
    "Addition: 2 + 3 evaluates to 5.\n",
    "Subtraction: 5 - 2 evaluates to 3."
   ]
  },
  {
   "cell_type": "code",
   "execution_count": 2,
   "metadata": {
    "tags": []
   },
   "outputs": [
    {
     "name": "stdout",
     "output_type": "stream",
     "text": [
      "Product: 15\n",
      "Sum: 8\n"
     ]
    }
   ],
   "source": [
    "num1 = 5\n",
    "num2 = 3\n",
    "\n",
    "product = num1 * num2\n",
    "\n",
    "sum = num1 + num2\n",
    "\n",
    "print(\"Product:\", product)\n",
    "print(\"Sum:\", sum)"
   ]
  },
  {
   "cell_type": "code",
   "execution_count": 3,
   "metadata": {
    "tags": []
   },
   "outputs": [
    {
     "name": "stdout",
     "output_type": "stream",
     "text": [
      "Hours: 2.5\n"
     ]
    }
   ],
   "source": [
    "minutes = 150\n",
    "\n",
    "hours = minutes / 60\n",
    "\n",
    "print(\"Hours:\", hours)"
   ]
  },
  {
   "cell_type": "markdown",
   "metadata": {},
   "source": [
    "Objectives \n",
    "\n",
    "In this exercise, we will focus on the following objectives:\n",
    "\n",
    "- Familiarize ourselves with the concept of markdown cells.\n",
    "- Create a markdown cell to list data science languages.\n",
    "- Create a markdown cell to list data science libraries.\n",
    "- Create a markdown cell with a table of data science tools.\n",
    "- Introduce arithmetic expression examples using a markdown cell.\n",
    "- Create a code cell to multiply and add numbers.\n",
    "- Create a code cell to convert minutes to hours.\n"
   ]
  },
  {
   "cell_type": "markdown",
   "metadata": {
    "tags": []
   },
   "source": [
    "Author \n",
    "\n",
    "Ghailene BOUGHZALA"
   ]
  },
  {
   "cell_type": "code",
   "execution_count": null,
   "metadata": {},
   "outputs": [],
   "source": []
  }
 ],
 "metadata": {
  "kernelspec": {
   "display_name": "Python",
   "language": "python",
   "name": "conda-env-python-py"
  },
  "language_info": {
   "codemirror_mode": {
    "name": "ipython",
    "version": 3
   },
   "file_extension": ".py",
   "mimetype": "text/x-python",
   "name": "python",
   "nbconvert_exporter": "python",
   "pygments_lexer": "ipython3",
   "version": "3.7.12"
  }
 },
 "nbformat": 4,
 "nbformat_minor": 4
}
